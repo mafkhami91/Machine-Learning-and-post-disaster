{
  "nbformat": 4,
  "nbformat_minor": 0,
  "metadata": {
    "colab": {
      "name": "KNN__MODM.ipynb",
      "provenance": [],
      "collapsed_sections": [],
      "toc_visible": true
    },
    "kernelspec": {
      "display_name": "Python 3",
      "language": "python",
      "name": "python3"
    },
    "language_info": {
      "codemirror_mode": {
        "name": "ipython",
        "version": 3
      },
      "file_extension": ".py",
      "mimetype": "text/x-python",
      "name": "python",
      "nbconvert_exporter": "python",
      "pygments_lexer": "ipython3",
      "version": "3.7.1"
    }
  },
  "cells": [
    {
      "cell_type": "code",
      "metadata": {
        "id": "YG2jY9Sf_6DE"
      },
      "source": [
        "import numpy as np\n",
        "import pandas as pd\n",
        "from sklearn import linear_model\n",
        "from sklearn import preprocessing,neighbors\n",
        "from sklearn.model_selection import cross_validate\n",
        "from sklearn.model_selection import train_test_split\n",
        "from __future__ import absolute_import,print_function, division\n",
        "\n",
        "import pathlib\n",
        "# import tensorflow as tf\n",
        "# from tensorflow import keras\n",
        "# from tensorflow.keras import layers\n",
        "import seaborn as sns\n",
        "np.random.seed(123)"
      ],
      "execution_count": null,
      "outputs": []
    },
    {
      "cell_type": "code",
      "metadata": {
        "id": "Ygs9fgcq1QG4"
      },
      "source": [
        "import pandas as pd\n",
        "df = pd.read_csv(\"/content/data for paper.csv\")"
      ],
      "execution_count": null,
      "outputs": []
    },
    {
      "cell_type": "code",
      "metadata": {
        "id": "YklyapoF2RUM",
        "colab": {
          "base_uri": "https://localhost:8080/",
          "height": 348
        },
        "outputId": "d9150458-bae1-4b6d-d2e8-1fa44e0c38fb"
      },
      "source": [
        "df.head()"
      ],
      "execution_count": null,
      "outputs": [
        {
          "output_type": "execute_result",
          "data": {
            "text/html": [
              "<div>\n",
              "<style scoped>\n",
              "    .dataframe tbody tr th:only-of-type {\n",
              "        vertical-align: middle;\n",
              "    }\n",
              "\n",
              "    .dataframe tbody tr th {\n",
              "        vertical-align: top;\n",
              "    }\n",
              "\n",
              "    .dataframe thead th {\n",
              "        text-align: right;\n",
              "    }\n",
              "</style>\n",
              "<table border=\"1\" class=\"dataframe\">\n",
              "  <thead>\n",
              "    <tr style=\"text-align: right;\">\n",
              "      <th></th>\n",
              "      <th>Shipping</th>\n",
              "      <th>Environmental Impact</th>\n",
              "      <th>Community Characteristics</th>\n",
              "      <th>Labor Workforce Dependency</th>\n",
              "      <th>Vulnerable Population</th>\n",
              "      <th>Logistic</th>\n",
              "      <th>Construction Cost</th>\n",
              "      <th>Living Condition</th>\n",
              "      <th>Average-onsite</th>\n",
              "      <th>Average-offsite</th>\n",
              "      <th>Kind</th>\n",
              "    </tr>\n",
              "  </thead>\n",
              "  <tbody>\n",
              "    <tr>\n",
              "      <th>0</th>\n",
              "      <td>0.50</td>\n",
              "      <td>0.20</td>\n",
              "      <td>0.14</td>\n",
              "      <td>0.25</td>\n",
              "      <td>0.33</td>\n",
              "      <td>0.13</td>\n",
              "      <td>0.17</td>\n",
              "      <td>1.00</td>\n",
              "      <td>3.00</td>\n",
              "      <td>3.00</td>\n",
              "      <td>on-site</td>\n",
              "    </tr>\n",
              "    <tr>\n",
              "      <th>1</th>\n",
              "      <td>0.50</td>\n",
              "      <td>0.17</td>\n",
              "      <td>1.00</td>\n",
              "      <td>0.14</td>\n",
              "      <td>0.33</td>\n",
              "      <td>0.20</td>\n",
              "      <td>0.13</td>\n",
              "      <td>0.25</td>\n",
              "      <td>2.80</td>\n",
              "      <td>2.75</td>\n",
              "      <td>on-site</td>\n",
              "    </tr>\n",
              "    <tr>\n",
              "      <th>2</th>\n",
              "      <td>0.17</td>\n",
              "      <td>0.14</td>\n",
              "      <td>0.33</td>\n",
              "      <td>0.13</td>\n",
              "      <td>1.00</td>\n",
              "      <td>0.25</td>\n",
              "      <td>0.20</td>\n",
              "      <td>0.50</td>\n",
              "      <td>2.40</td>\n",
              "      <td>1.00</td>\n",
              "      <td>on-site</td>\n",
              "    </tr>\n",
              "    <tr>\n",
              "      <th>3</th>\n",
              "      <td>1.00</td>\n",
              "      <td>0.20</td>\n",
              "      <td>0.33</td>\n",
              "      <td>0.13</td>\n",
              "      <td>0.17</td>\n",
              "      <td>0.50</td>\n",
              "      <td>0.25</td>\n",
              "      <td>0.14</td>\n",
              "      <td>2.80</td>\n",
              "      <td>2.50</td>\n",
              "      <td>on-site</td>\n",
              "    </tr>\n",
              "    <tr>\n",
              "      <th>4</th>\n",
              "      <td>1.00</td>\n",
              "      <td>0.14</td>\n",
              "      <td>0.17</td>\n",
              "      <td>0.13</td>\n",
              "      <td>0.20</td>\n",
              "      <td>0.50</td>\n",
              "      <td>0.33</td>\n",
              "      <td>0.25</td>\n",
              "      <td>2.75</td>\n",
              "      <td>2.00</td>\n",
              "      <td>on-site</td>\n",
              "    </tr>\n",
              "  </tbody>\n",
              "</table>\n",
              "</div>"
            ],
            "text/plain": [
              "   Shipping  Environmental Impact  ...  Average-offsite     Kind\n",
              "0      0.50                  0.20  ...             3.00  on-site\n",
              "1      0.50                  0.17  ...             2.75  on-site\n",
              "2      0.17                  0.14  ...             1.00  on-site\n",
              "3      1.00                  0.20  ...             2.50  on-site\n",
              "4      1.00                  0.14  ...             2.00  on-site\n",
              "\n",
              "[5 rows x 11 columns]"
            ]
          },
          "metadata": {
            "tags": []
          },
          "execution_count": 3
        }
      ]
    },
    {
      "cell_type": "code",
      "metadata": {
        "id": "zuyn8oi-_6Ds"
      },
      "source": [
        "df.drop(['Average-onsite','Average-offsite'], axis = 1, inplace = True)"
      ],
      "execution_count": null,
      "outputs": []
    },
    {
      "cell_type": "code",
      "metadata": {
        "id": "yqw5yUUj5kkd",
        "colab": {
          "base_uri": "https://localhost:8080/",
          "height": 182
        },
        "outputId": "c95540fc-0fd5-49b5-cfd7-41c29235eba4"
      },
      "source": [
        "df.head(2)"
      ],
      "execution_count": null,
      "outputs": [
        {
          "output_type": "execute_result",
          "data": {
            "text/html": [
              "<div>\n",
              "<style scoped>\n",
              "    .dataframe tbody tr th:only-of-type {\n",
              "        vertical-align: middle;\n",
              "    }\n",
              "\n",
              "    .dataframe tbody tr th {\n",
              "        vertical-align: top;\n",
              "    }\n",
              "\n",
              "    .dataframe thead th {\n",
              "        text-align: right;\n",
              "    }\n",
              "</style>\n",
              "<table border=\"1\" class=\"dataframe\">\n",
              "  <thead>\n",
              "    <tr style=\"text-align: right;\">\n",
              "      <th></th>\n",
              "      <th>Shipping</th>\n",
              "      <th>Environmental Impact</th>\n",
              "      <th>Community Characteristics</th>\n",
              "      <th>Labor Workforce Dependency</th>\n",
              "      <th>Vulnerable Population</th>\n",
              "      <th>Logistic</th>\n",
              "      <th>Construction Cost</th>\n",
              "      <th>Living Condition</th>\n",
              "      <th>Kind</th>\n",
              "    </tr>\n",
              "  </thead>\n",
              "  <tbody>\n",
              "    <tr>\n",
              "      <th>0</th>\n",
              "      <td>0.5</td>\n",
              "      <td>0.20</td>\n",
              "      <td>0.14</td>\n",
              "      <td>0.25</td>\n",
              "      <td>0.33</td>\n",
              "      <td>0.13</td>\n",
              "      <td>0.17</td>\n",
              "      <td>1.00</td>\n",
              "      <td>on-site</td>\n",
              "    </tr>\n",
              "    <tr>\n",
              "      <th>1</th>\n",
              "      <td>0.5</td>\n",
              "      <td>0.17</td>\n",
              "      <td>1.00</td>\n",
              "      <td>0.14</td>\n",
              "      <td>0.33</td>\n",
              "      <td>0.20</td>\n",
              "      <td>0.13</td>\n",
              "      <td>0.25</td>\n",
              "      <td>on-site</td>\n",
              "    </tr>\n",
              "  </tbody>\n",
              "</table>\n",
              "</div>"
            ],
            "text/plain": [
              "   Shipping  Environmental Impact  ...  Living Condition     Kind\n",
              "0       0.5                  0.20  ...              1.00  on-site\n",
              "1       0.5                  0.17  ...              0.25  on-site\n",
              "\n",
              "[2 rows x 9 columns]"
            ]
          },
          "metadata": {
            "tags": []
          },
          "execution_count": 5
        }
      ]
    },
    {
      "cell_type": "code",
      "metadata": {
        "id": "kgZn7GFybfq8",
        "colab": {
          "base_uri": "https://localhost:8080/",
          "height": 335
        },
        "outputId": "065011e3-d741-4167-bbbe-2b41544b6535"
      },
      "source": [
        "df.describe()"
      ],
      "execution_count": null,
      "outputs": [
        {
          "output_type": "execute_result",
          "data": {
            "text/html": [
              "<div>\n",
              "<style scoped>\n",
              "    .dataframe tbody tr th:only-of-type {\n",
              "        vertical-align: middle;\n",
              "    }\n",
              "\n",
              "    .dataframe tbody tr th {\n",
              "        vertical-align: top;\n",
              "    }\n",
              "\n",
              "    .dataframe thead th {\n",
              "        text-align: right;\n",
              "    }\n",
              "</style>\n",
              "<table border=\"1\" class=\"dataframe\">\n",
              "  <thead>\n",
              "    <tr style=\"text-align: right;\">\n",
              "      <th></th>\n",
              "      <th>Shipping</th>\n",
              "      <th>Environmental Impact</th>\n",
              "      <th>Community Characteristics</th>\n",
              "      <th>Labor Workforce Dependency</th>\n",
              "      <th>Vulnerable Population</th>\n",
              "      <th>Logistic</th>\n",
              "      <th>Construction Cost</th>\n",
              "      <th>Living Condition</th>\n",
              "    </tr>\n",
              "  </thead>\n",
              "  <tbody>\n",
              "    <tr>\n",
              "      <th>count</th>\n",
              "      <td>67.000000</td>\n",
              "      <td>67.000000</td>\n",
              "      <td>67.000000</td>\n",
              "      <td>67.000000</td>\n",
              "      <td>67.000000</td>\n",
              "      <td>67.000000</td>\n",
              "      <td>67.000000</td>\n",
              "      <td>67.000000</td>\n",
              "    </tr>\n",
              "    <tr>\n",
              "      <th>mean</th>\n",
              "      <td>0.521940</td>\n",
              "      <td>0.217910</td>\n",
              "      <td>0.303582</td>\n",
              "      <td>0.240746</td>\n",
              "      <td>0.301194</td>\n",
              "      <td>0.518955</td>\n",
              "      <td>0.359403</td>\n",
              "      <td>0.256269</td>\n",
              "    </tr>\n",
              "    <tr>\n",
              "      <th>std</th>\n",
              "      <td>0.329417</td>\n",
              "      <td>0.135407</td>\n",
              "      <td>0.263604</td>\n",
              "      <td>0.129829</td>\n",
              "      <td>0.292810</td>\n",
              "      <td>0.342708</td>\n",
              "      <td>0.242574</td>\n",
              "      <td>0.185144</td>\n",
              "    </tr>\n",
              "    <tr>\n",
              "      <th>min</th>\n",
              "      <td>0.130000</td>\n",
              "      <td>0.130000</td>\n",
              "      <td>0.130000</td>\n",
              "      <td>0.130000</td>\n",
              "      <td>0.130000</td>\n",
              "      <td>0.130000</td>\n",
              "      <td>0.130000</td>\n",
              "      <td>0.130000</td>\n",
              "    </tr>\n",
              "    <tr>\n",
              "      <th>25%</th>\n",
              "      <td>0.200000</td>\n",
              "      <td>0.140000</td>\n",
              "      <td>0.140000</td>\n",
              "      <td>0.170000</td>\n",
              "      <td>0.130000</td>\n",
              "      <td>0.200000</td>\n",
              "      <td>0.200000</td>\n",
              "      <td>0.140000</td>\n",
              "    </tr>\n",
              "    <tr>\n",
              "      <th>50%</th>\n",
              "      <td>0.500000</td>\n",
              "      <td>0.200000</td>\n",
              "      <td>0.170000</td>\n",
              "      <td>0.200000</td>\n",
              "      <td>0.170000</td>\n",
              "      <td>0.500000</td>\n",
              "      <td>0.330000</td>\n",
              "      <td>0.250000</td>\n",
              "    </tr>\n",
              "    <tr>\n",
              "      <th>75%</th>\n",
              "      <td>1.000000</td>\n",
              "      <td>0.200000</td>\n",
              "      <td>0.330000</td>\n",
              "      <td>0.250000</td>\n",
              "      <td>0.330000</td>\n",
              "      <td>1.000000</td>\n",
              "      <td>0.330000</td>\n",
              "      <td>0.250000</td>\n",
              "    </tr>\n",
              "    <tr>\n",
              "      <th>max</th>\n",
              "      <td>1.000000</td>\n",
              "      <td>1.000000</td>\n",
              "      <td>1.000000</td>\n",
              "      <td>1.000000</td>\n",
              "      <td>1.000000</td>\n",
              "      <td>1.000000</td>\n",
              "      <td>1.000000</td>\n",
              "      <td>1.000000</td>\n",
              "    </tr>\n",
              "  </tbody>\n",
              "</table>\n",
              "</div>"
            ],
            "text/plain": [
              "        Shipping  Environmental Impact  ...  Construction Cost  Living Condition\n",
              "count  67.000000             67.000000  ...          67.000000         67.000000\n",
              "mean    0.521940              0.217910  ...           0.359403          0.256269\n",
              "std     0.329417              0.135407  ...           0.242574          0.185144\n",
              "min     0.130000              0.130000  ...           0.130000          0.130000\n",
              "25%     0.200000              0.140000  ...           0.200000          0.140000\n",
              "50%     0.500000              0.200000  ...           0.330000          0.250000\n",
              "75%     1.000000              0.200000  ...           0.330000          0.250000\n",
              "max     1.000000              1.000000  ...           1.000000          1.000000\n",
              "\n",
              "[8 rows x 8 columns]"
            ]
          },
          "metadata": {
            "tags": []
          },
          "execution_count": 6
        }
      ]
    },
    {
      "cell_type": "code",
      "metadata": {
        "colab": {
          "base_uri": "https://localhost:8080/",
          "height": 133
        },
        "id": "USUBLqoJx-cr",
        "outputId": "48da0376-6bca-4a39-8b0c-ced81c224e98"
      },
      "source": [
        "df.mode()"
      ],
      "execution_count": null,
      "outputs": [
        {
          "output_type": "execute_result",
          "data": {
            "text/html": [
              "<div>\n",
              "<style scoped>\n",
              "    .dataframe tbody tr th:only-of-type {\n",
              "        vertical-align: middle;\n",
              "    }\n",
              "\n",
              "    .dataframe tbody tr th {\n",
              "        vertical-align: top;\n",
              "    }\n",
              "\n",
              "    .dataframe thead th {\n",
              "        text-align: right;\n",
              "    }\n",
              "</style>\n",
              "<table border=\"1\" class=\"dataframe\">\n",
              "  <thead>\n",
              "    <tr style=\"text-align: right;\">\n",
              "      <th></th>\n",
              "      <th>Shipping</th>\n",
              "      <th>Environmental Impact</th>\n",
              "      <th>Community Characteristics</th>\n",
              "      <th>Labor Workforce Dependency</th>\n",
              "      <th>Vulnerable Population</th>\n",
              "      <th>Logistic</th>\n",
              "      <th>Construction Cost</th>\n",
              "      <th>Living Condition</th>\n",
              "      <th>Kind</th>\n",
              "    </tr>\n",
              "  </thead>\n",
              "  <tbody>\n",
              "    <tr>\n",
              "      <th>0</th>\n",
              "      <td>0.5</td>\n",
              "      <td>0.2</td>\n",
              "      <td>0.14</td>\n",
              "      <td>0.25</td>\n",
              "      <td>0.13</td>\n",
              "      <td>1.0</td>\n",
              "      <td>0.33</td>\n",
              "      <td>0.25</td>\n",
              "      <td>off-site</td>\n",
              "    </tr>\n",
              "  </tbody>\n",
              "</table>\n",
              "</div>"
            ],
            "text/plain": [
              "   Shipping  Environmental Impact  ...  Living Condition      Kind\n",
              "0       0.5                   0.2  ...              0.25  off-site\n",
              "\n",
              "[1 rows x 9 columns]"
            ]
          },
          "metadata": {
            "tags": []
          },
          "execution_count": 7
        }
      ]
    },
    {
      "cell_type": "code",
      "metadata": {
        "id": "lMdBfhkQMna7"
      },
      "source": [
        "# # dealing with categorical data\n",
        "scale_mapper = {\"off-site\":0, \"on-site\":1}\n",
        "df[\"model\"] = df[\"Kind\"].replace(scale_mapper)"
      ],
      "execution_count": null,
      "outputs": []
    },
    {
      "cell_type": "code",
      "metadata": {
        "colab": {
          "base_uri": "https://localhost:8080/"
        },
        "id": "bo-psCZDqaGv",
        "outputId": "522a6279-f7b1-4837-ef99-2641fa25db6a"
      },
      "source": [
        "df.info()"
      ],
      "execution_count": null,
      "outputs": [
        {
          "output_type": "stream",
          "text": [
            "<class 'pandas.core.frame.DataFrame'>\n",
            "RangeIndex: 67 entries, 0 to 66\n",
            "Data columns (total 10 columns):\n",
            " #   Column                       Non-Null Count  Dtype  \n",
            "---  ------                       --------------  -----  \n",
            " 0   Shipping                     67 non-null     float64\n",
            " 1   Environmental Impact         67 non-null     float64\n",
            " 2   Community Characteristics    67 non-null     float64\n",
            " 3    Labor Workforce Dependency  67 non-null     float64\n",
            " 4   Vulnerable Population        67 non-null     float64\n",
            " 5   Logistic                     67 non-null     float64\n",
            " 6   Construction Cost            67 non-null     float64\n",
            " 7   Living Condition             67 non-null     float64\n",
            " 8   Kind                         67 non-null     object \n",
            " 9   model                        67 non-null     int64  \n",
            "dtypes: float64(8), int64(1), object(1)\n",
            "memory usage: 5.4+ KB\n"
          ],
          "name": "stdout"
        }
      ]
    },
    {
      "cell_type": "code",
      "metadata": {
        "id": "qXg2uKoCNGld",
        "colab": {
          "base_uri": "https://localhost:8080/",
          "height": 348
        },
        "outputId": "72a6948b-699f-49be-886b-4ed79c013fd0"
      },
      "source": [
        "df.head()"
      ],
      "execution_count": null,
      "outputs": [
        {
          "output_type": "execute_result",
          "data": {
            "text/html": [
              "<div>\n",
              "<style scoped>\n",
              "    .dataframe tbody tr th:only-of-type {\n",
              "        vertical-align: middle;\n",
              "    }\n",
              "\n",
              "    .dataframe tbody tr th {\n",
              "        vertical-align: top;\n",
              "    }\n",
              "\n",
              "    .dataframe thead th {\n",
              "        text-align: right;\n",
              "    }\n",
              "</style>\n",
              "<table border=\"1\" class=\"dataframe\">\n",
              "  <thead>\n",
              "    <tr style=\"text-align: right;\">\n",
              "      <th></th>\n",
              "      <th>Shipping</th>\n",
              "      <th>Environmental Impact</th>\n",
              "      <th>Community Characteristics</th>\n",
              "      <th>Labor Workforce Dependency</th>\n",
              "      <th>Vulnerable Population</th>\n",
              "      <th>Logistic</th>\n",
              "      <th>Construction Cost</th>\n",
              "      <th>Living Condition</th>\n",
              "      <th>Kind</th>\n",
              "      <th>model</th>\n",
              "    </tr>\n",
              "  </thead>\n",
              "  <tbody>\n",
              "    <tr>\n",
              "      <th>0</th>\n",
              "      <td>0.50</td>\n",
              "      <td>0.20</td>\n",
              "      <td>0.14</td>\n",
              "      <td>0.25</td>\n",
              "      <td>0.33</td>\n",
              "      <td>0.13</td>\n",
              "      <td>0.17</td>\n",
              "      <td>1.00</td>\n",
              "      <td>on-site</td>\n",
              "      <td>1</td>\n",
              "    </tr>\n",
              "    <tr>\n",
              "      <th>1</th>\n",
              "      <td>0.50</td>\n",
              "      <td>0.17</td>\n",
              "      <td>1.00</td>\n",
              "      <td>0.14</td>\n",
              "      <td>0.33</td>\n",
              "      <td>0.20</td>\n",
              "      <td>0.13</td>\n",
              "      <td>0.25</td>\n",
              "      <td>on-site</td>\n",
              "      <td>1</td>\n",
              "    </tr>\n",
              "    <tr>\n",
              "      <th>2</th>\n",
              "      <td>0.17</td>\n",
              "      <td>0.14</td>\n",
              "      <td>0.33</td>\n",
              "      <td>0.13</td>\n",
              "      <td>1.00</td>\n",
              "      <td>0.25</td>\n",
              "      <td>0.20</td>\n",
              "      <td>0.50</td>\n",
              "      <td>on-site</td>\n",
              "      <td>1</td>\n",
              "    </tr>\n",
              "    <tr>\n",
              "      <th>3</th>\n",
              "      <td>1.00</td>\n",
              "      <td>0.20</td>\n",
              "      <td>0.33</td>\n",
              "      <td>0.13</td>\n",
              "      <td>0.17</td>\n",
              "      <td>0.50</td>\n",
              "      <td>0.25</td>\n",
              "      <td>0.14</td>\n",
              "      <td>on-site</td>\n",
              "      <td>1</td>\n",
              "    </tr>\n",
              "    <tr>\n",
              "      <th>4</th>\n",
              "      <td>1.00</td>\n",
              "      <td>0.14</td>\n",
              "      <td>0.17</td>\n",
              "      <td>0.13</td>\n",
              "      <td>0.20</td>\n",
              "      <td>0.50</td>\n",
              "      <td>0.33</td>\n",
              "      <td>0.25</td>\n",
              "      <td>on-site</td>\n",
              "      <td>1</td>\n",
              "    </tr>\n",
              "  </tbody>\n",
              "</table>\n",
              "</div>"
            ],
            "text/plain": [
              "   Shipping  Environmental Impact  ...     Kind  model\n",
              "0      0.50                  0.20  ...  on-site      1\n",
              "1      0.50                  0.17  ...  on-site      1\n",
              "2      0.17                  0.14  ...  on-site      1\n",
              "3      1.00                  0.20  ...  on-site      1\n",
              "4      1.00                  0.14  ...  on-site      1\n",
              "\n",
              "[5 rows x 10 columns]"
            ]
          },
          "metadata": {
            "tags": []
          },
          "execution_count": 13
        }
      ]
    },
    {
      "cell_type": "code",
      "metadata": {
        "id": "YILqFzR_8NGt",
        "colab": {
          "base_uri": "https://localhost:8080/"
        },
        "outputId": "1f4c5407-6b74-4efc-e24e-2184d8a505b4"
      },
      "source": [
        "X = df.iloc[:,0:8].values\n",
        "X.shape"
      ],
      "execution_count": null,
      "outputs": [
        {
          "output_type": "execute_result",
          "data": {
            "text/plain": [
              "(67, 8)"
            ]
          },
          "metadata": {
            "tags": []
          },
          "execution_count": 14
        }
      ]
    },
    {
      "cell_type": "code",
      "metadata": {
        "id": "u5shOwJfLQgk",
        "colab": {
          "base_uri": "https://localhost:8080/"
        },
        "outputId": "be4d932b-59d6-44fd-8eeb-f1f7261686ae"
      },
      "source": [
        "y = df.model\n",
        "y.head()"
      ],
      "execution_count": null,
      "outputs": [
        {
          "output_type": "execute_result",
          "data": {
            "text/plain": [
              "0    1\n",
              "1    1\n",
              "2    1\n",
              "3    1\n",
              "4    1\n",
              "Name: model, dtype: int64"
            ]
          },
          "metadata": {
            "tags": []
          },
          "execution_count": 15
        }
      ]
    },
    {
      "cell_type": "code",
      "metadata": {
        "id": "wtk-feYMZ2Ty",
        "colab": {
          "base_uri": "https://localhost:8080/"
        },
        "outputId": "19cf4d15-87a8-45db-ca5e-10099f9e3f56"
      },
      "source": [
        "y.value_counts()"
      ],
      "execution_count": null,
      "outputs": [
        {
          "output_type": "execute_result",
          "data": {
            "text/plain": [
              "0    39\n",
              "1    28\n",
              "Name: model, dtype: int64"
            ]
          },
          "metadata": {
            "tags": []
          },
          "execution_count": 16
        }
      ]
    },
    {
      "cell_type": "code",
      "metadata": {
        "id": "iwBueGcv45hJ"
      },
      "source": [
        "# finding the correlation\n",
        "corr = df.corr()"
      ],
      "execution_count": null,
      "outputs": []
    },
    {
      "cell_type": "code",
      "metadata": {
        "id": "n8F4Lw0x492g",
        "colab": {
          "base_uri": "https://localhost:8080/",
          "height": 427
        },
        "outputId": "5367a792-c613-47b6-ca99-5f23f4ddd86f"
      },
      "source": [
        "sns.heatmap(corr)"
      ],
      "execution_count": null,
      "outputs": [
        {
          "output_type": "execute_result",
          "data": {
            "text/plain": [
              "<matplotlib.axes._subplots.AxesSubplot at 0x7f0450bfe320>"
            ]
          },
          "metadata": {
            "tags": []
          },
          "execution_count": 18
        },
        {
          "output_type": "display_data",
          "data": {
            "image/png": "[encoded data removed]",
            "text/plain": [
              "<Figure size 432x288 with 2 Axes>"
            ]
          },
          "metadata": {
            "tags": [],
            "needs_background": "light"
          }
        }
      ]
    },
    {
      "cell_type": "markdown",
      "metadata": {
        "id": "ggFYzgbiQkIS"
      },
      "source": [
        "Standard Scale"
      ]
    },
    {
      "cell_type": "code",
      "metadata": {
        "id": "ZWlukQtUQMiH"
      },
      "source": [
        "from sklearn.preprocessing import StandardScaler\n",
        "# Standardizing the features\n",
        "X = StandardScaler().fit_transform(X)"
      ],
      "execution_count": null,
      "outputs": []
    },
    {
      "cell_type": "code",
      "metadata": {
        "id": "w-CqKZQNOCPX"
      },
      "source": [
        "from sklearn.decomposition import PCA\n",
        "pca = PCA(n_components=None) # create object, pass arcgument in the paranthesis\n",
        "principalComponents1 = pca.fit_transform(X) # fit and transform the data\n",
        "explained_variarance = pca.explained_variance_ratio_"
      ],
      "execution_count": null,
      "outputs": []
    },
    {
      "cell_type": "code",
      "metadata": {
        "id": "XhUCNHDrOLZ0",
        "colab": {
          "base_uri": "https://localhost:8080/"
        },
        "outputId": "b336b5bd-2807-46a2-9c43-cc2623869b71"
      },
      "source": [
        "explained_variarance # how much variance is explained by each component"
      ],
      "execution_count": null,
      "outputs": [
        {
          "output_type": "execute_result",
          "data": {
            "text/plain": [
              "array([2.71085157e-01, 1.67821193e-01, 1.57280722e-01, 1.24670236e-01,\n",
              "       1.12283995e-01, 9.69271761e-02, 6.99315209e-02, 4.04748300e-33])"
            ]
          },
          "metadata": {
            "tags": []
          },
          "execution_count": 21
        }
      ]
    },
    {
      "cell_type": "markdown",
      "metadata": {
        "id": "kJaInj2rcrMA"
      },
      "source": [
        "# **Data Visualization**"
      ]
    },
    {
      "cell_type": "code",
      "metadata": {
        "id": "DrxzGMz1JU5K",
        "colab": {
          "base_uri": "https://localhost:8080/",
          "height": 206
        },
        "outputId": "47cb0d36-2e60-4c67-c68d-6cd82454396c"
      },
      "source": [
        "from sklearn.decomposition import PCA # import library\n",
        "pca = PCA(n_components=3) # create object, pass arcgument in the paranthesis\n",
        "principalComponents = pca.fit_transform(X) # fit and transform the data\n",
        "explained_variarance = pca.explained_variance_ratio_\n",
        "principalDf = pd.DataFrame(data = principalComponents\n",
        "             , columns = ['principal component 1', 'principal component 2','principal component 3'])\n",
        "principalDf.head()"
      ],
      "execution_count": null,
      "outputs": [
        {
          "output_type": "execute_result",
          "data": {
            "text/html": [
              "<div>\n",
              "<style scoped>\n",
              "    .dataframe tbody tr th:only-of-type {\n",
              "        vertical-align: middle;\n",
              "    }\n",
              "\n",
              "    .dataframe tbody tr th {\n",
              "        vertical-align: top;\n",
              "    }\n",
              "\n",
              "    .dataframe thead th {\n",
              "        text-align: right;\n",
              "    }\n",
              "</style>\n",
              "<table border=\"1\" class=\"dataframe\">\n",
              "  <thead>\n",
              "    <tr style=\"text-align: right;\">\n",
              "      <th></th>\n",
              "      <th>principal component 1</th>\n",
              "      <th>principal component 2</th>\n",
              "      <th>principal component 3</th>\n",
              "    </tr>\n",
              "  </thead>\n",
              "  <tbody>\n",
              "    <tr>\n",
              "      <th>0</th>\n",
              "      <td>1.281145</td>\n",
              "      <td>-1.621136</td>\n",
              "      <td>-2.066345</td>\n",
              "    </tr>\n",
              "    <tr>\n",
              "      <th>1</th>\n",
              "      <td>1.709232</td>\n",
              "      <td>-0.288506</td>\n",
              "      <td>0.924782</td>\n",
              "    </tr>\n",
              "    <tr>\n",
              "      <th>2</th>\n",
              "      <td>2.548998</td>\n",
              "      <td>-0.607966</td>\n",
              "      <td>-0.903336</td>\n",
              "    </tr>\n",
              "    <tr>\n",
              "      <th>3</th>\n",
              "      <td>-0.729282</td>\n",
              "      <td>0.463988</td>\n",
              "      <td>-0.626592</td>\n",
              "    </tr>\n",
              "    <tr>\n",
              "      <th>4</th>\n",
              "      <td>-0.962678</td>\n",
              "      <td>-0.146968</td>\n",
              "      <td>-1.096034</td>\n",
              "    </tr>\n",
              "  </tbody>\n",
              "</table>\n",
              "</div>"
            ],
            "text/plain": [
              "   principal component 1  principal component 2  principal component 3\n",
              "0               1.281145              -1.621136              -2.066345\n",
              "1               1.709232              -0.288506               0.924782\n",
              "2               2.548998              -0.607966              -0.903336\n",
              "3              -0.729282               0.463988              -0.626592\n",
              "4              -0.962678              -0.146968              -1.096034"
            ]
          },
          "metadata": {
            "tags": []
          },
          "execution_count": 22
        }
      ]
    },
    {
      "cell_type": "code",
      "metadata": {
        "id": "ykRuoj5VJuWy",
        "colab": {
          "base_uri": "https://localhost:8080/",
          "height": 206
        },
        "outputId": "1549a389-867a-4140-ca56-3125b4e59d9a"
      },
      "source": [
        "finalDf = pd.concat([principalDf, df.Kind], axis = 1)\n",
        "finalDf.head()"
      ],
      "execution_count": null,
      "outputs": [
        {
          "output_type": "execute_result",
          "data": {
            "text/html": [
              "<div>\n",
              "<style scoped>\n",
              "    .dataframe tbody tr th:only-of-type {\n",
              "        vertical-align: middle;\n",
              "    }\n",
              "\n",
              "    .dataframe tbody tr th {\n",
              "        vertical-align: top;\n",
              "    }\n",
              "\n",
              "    .dataframe thead th {\n",
              "        text-align: right;\n",
              "    }\n",
              "</style>\n",
              "<table border=\"1\" class=\"dataframe\">\n",
              "  <thead>\n",
              "    <tr style=\"text-align: right;\">\n",
              "      <th></th>\n",
              "      <th>principal component 1</th>\n",
              "      <th>principal component 2</th>\n",
              "      <th>principal component 3</th>\n",
              "      <th>Kind</th>\n",
              "    </tr>\n",
              "  </thead>\n",
              "  <tbody>\n",
              "    <tr>\n",
              "      <th>0</th>\n",
              "      <td>1.281145</td>\n",
              "      <td>-1.621136</td>\n",
              "      <td>-2.066345</td>\n",
              "      <td>on-site</td>\n",
              "    </tr>\n",
              "    <tr>\n",
              "      <th>1</th>\n",
              "      <td>1.709232</td>\n",
              "      <td>-0.288506</td>\n",
              "      <td>0.924782</td>\n",
              "      <td>on-site</td>\n",
              "    </tr>\n",
              "    <tr>\n",
              "      <th>2</th>\n",
              "      <td>2.548998</td>\n",
              "      <td>-0.607966</td>\n",
              "      <td>-0.903336</td>\n",
              "      <td>on-site</td>\n",
              "    </tr>\n",
              "    <tr>\n",
              "      <th>3</th>\n",
              "      <td>-0.729282</td>\n",
              "      <td>0.463988</td>\n",
              "      <td>-0.626592</td>\n",
              "      <td>on-site</td>\n",
              "    </tr>\n",
              "    <tr>\n",
              "      <th>4</th>\n",
              "      <td>-0.962678</td>\n",
              "      <td>-0.146968</td>\n",
              "      <td>-1.096034</td>\n",
              "      <td>on-site</td>\n",
              "    </tr>\n",
              "  </tbody>\n",
              "</table>\n",
              "</div>"
            ],
            "text/plain": [
              "   principal component 1  principal component 2  principal component 3     Kind\n",
              "0               1.281145              -1.621136              -2.066345  on-site\n",
              "1               1.709232              -0.288506               0.924782  on-site\n",
              "2               2.548998              -0.607966              -0.903336  on-site\n",
              "3              -0.729282               0.463988              -0.626592  on-site\n",
              "4              -0.962678              -0.146968              -1.096034  on-site"
            ]
          },
          "metadata": {
            "tags": []
          },
          "execution_count": 23
        }
      ]
    },
    {
      "cell_type": "code",
      "metadata": {
        "id": "7VlLG-aZKdSI"
      },
      "source": [
        "import matplotlib.pyplot as plt\n",
        "from mpl_toolkits.mplot3d import Axes3D\n",
        "%matplotlib inline"
      ],
      "execution_count": null,
      "outputs": []
    },
    {
      "cell_type": "code",
      "metadata": {
        "id": "tk_chdBXJ7-E",
        "colab": {
          "base_uri": "https://localhost:8080/",
          "height": 575
        },
        "outputId": "0471baae-2ebe-43dd-e2ba-2097a70db114"
      },
      "source": [
        "fig = plt.figure(figsize = (10,10))\n",
        "ax = fig.add_subplot(1,1,1,projection='3d') \n",
        "ax.set_xlabel('Principal Component 1', fontsize = 15)\n",
        "ax.set_ylabel('Principal Component 2', fontsize = 15)\n",
        "ax.set_zlabel('Principal Component 3', fontsize = 15)\n",
        "ax.set_title('3 component PCA', fontsize = 20)\n",
        "kinds = ['off-site','on-site']\n",
        "colors = ['r', 'b','g']\n",
        "for kind, color in zip(kinds,colors):\n",
        "    indicesToKeep = finalDf['Kind'] == kind\n",
        "    ax.scatter(finalDf.loc[indicesToKeep, 'principal component 1']\n",
        "               , finalDf.loc[indicesToKeep, 'principal component 2']\n",
        "               , finalDf.loc[indicesToKeep, 'principal component 3']\n",
        "               , c = color\n",
        "               , s = 50)\n",
        "ax.legend(kinds)\n",
        "ax.grid()\n",
        "# for angle in range(0, 360):\n",
        "ax.view_init(30,60)\n",
        "plt.draw()\n",
        "# plt.pause(.001)"
      ],
      "execution_count": null,
      "outputs": [
        {
          "output_type": "display_data",
          "data": {
            "image/png": "[encoded data removed]",
            "text/plain": [
              "<Figure size 720x720 with 1 Axes>"
            ]
          },
          "metadata": {
            "tags": [],
            "needs_background": "light"
          }
        }
      ]
    },
    {
      "cell_type": "code",
      "metadata": {
        "id": "W27I3NRXcAeS",
        "colab": {
          "base_uri": "https://localhost:8080/",
          "height": 632
        },
        "outputId": "fba6fe2b-332e-45cd-fb2f-3f686de543e0"
      },
      "source": [
        "fig = plt.figure(figsize = (10,10))\n",
        "ax = fig.add_subplot(1,1,1) \n",
        "ax.set_xlabel('Principal Component 1', fontsize = 15)\n",
        "ax.set_ylabel('Principal Component 2', fontsize = 15)\n",
        "#ax.set_zlabel('Principal Component 3', fontsize = 15)\n",
        "ax.set_title('2 component PCA', fontsize = 20)\n",
        "kinds = ['off-site',\"on-site\"]\n",
        "colors = ['r', 'b']\n",
        "for kind, color in zip(kinds,colors):\n",
        "    indicesToKeep = finalDf['Kind'] == kind\n",
        "    ax.scatter(finalDf.loc[indicesToKeep, 'principal component 1']\n",
        "               , finalDf.loc[indicesToKeep, 'principal component 2']\n",
        "               , c = color\n",
        "               , s = 50)\n",
        "ax.legend(kinds)\n",
        "ax.grid()\n"
      ],
      "execution_count": null,
      "outputs": [
        {
          "output_type": "display_data",
          "data": {
            "image/png": "[encoded data removed]",
            "text/plain": [
              "<Figure size 720x720 with 1 Axes>"
            ]
          },
          "metadata": {
            "tags": [],
            "needs_background": "light"
          }
        }
      ]
    },
    {
      "cell_type": "code",
      "metadata": {
        "id": "-Xj4VXfZcMCR",
        "colab": {
          "base_uri": "https://localhost:8080/",
          "height": 632
        },
        "outputId": "4c26da1e-5c15-4975-93d9-742a433a38ef"
      },
      "source": [
        "fig = plt.figure(figsize = (10,10))\n",
        "ax = fig.add_subplot(1,1,1) \n",
        "ax.set_xlabel('Principal Component 1', fontsize = 15)\n",
        "ax.set_ylabel('Principal Component 3', fontsize = 15)\n",
        "ax.set_title('2 component PCA', fontsize = 20)\n",
        "kinds = ['off-site',\"on-site\"]\n",
        "colors = ['r', 'b']\n",
        "for kind, color in zip(kinds,colors):\n",
        "    indicesToKeep = finalDf['Kind'] == kind\n",
        "    ax.scatter(finalDf.loc[indicesToKeep, 'principal component 1']\n",
        "               , finalDf.loc[indicesToKeep, 'principal component 3']\n",
        "               , c = color\n",
        "               , s = 50)\n",
        "ax.legend(kinds)\n",
        "ax.grid()"
      ],
      "execution_count": null,
      "outputs": [
        {
          "output_type": "display_data",
          "data": {
            "image/png": "[encoded data removed]",
            "text/plain": [
              "<Figure size 720x720 with 1 Axes>"
            ]
          },
          "metadata": {
            "tags": [],
            "needs_background": "light"
          }
        }
      ]
    },
    {
      "cell_type": "code",
      "metadata": {
        "id": "UD01iKwEcbKj",
        "colab": {
          "base_uri": "https://localhost:8080/",
          "height": 632
        },
        "outputId": "cddde91d-bec6-45bc-eec7-9192728d3bfe"
      },
      "source": [
        "fig = plt.figure(figsize = (10,10))\n",
        "ax = fig.add_subplot(1,1,1) \n",
        "ax.set_xlabel('Principal Component 2', fontsize = 15)\n",
        "ax.set_ylabel('Principal Component 3', fontsize = 15)\n",
        "ax.set_title('2 component PCA', fontsize = 20)\n",
        "kinds = ['off-site',\"on-site\"]\n",
        "colors = ['r', 'b']\n",
        "for kind, color in zip(kinds,colors):\n",
        "    indicesToKeep = finalDf['Kind'] == kind\n",
        "    ax.scatter(finalDf.loc[indicesToKeep, 'principal component 2']\n",
        "               , finalDf.loc[indicesToKeep, 'principal component 3']\n",
        "               , c = color\n",
        "               , s = 50)\n",
        "ax.legend(kinds)\n",
        "ax.grid()"
      ],
      "execution_count": null,
      "outputs": [
        {
          "output_type": "display_data",
          "data": {
            "image/png": "[encoded data removed]",
            "text/plain": [
              "<Figure size 720x720 with 1 Axes>"
            ]
          },
          "metadata": {
            "tags": [],
            "needs_background": "light"
          }
        }
      ]
    },
    {
      "cell_type": "markdown",
      "metadata": {
        "id": "up2HrJy9cxlv"
      },
      "source": [
        "# **Model**"
      ]
    },
    {
      "cell_type": "code",
      "metadata": {
        "id": "2jL6e7yylusD",
        "colab": {
          "base_uri": "https://localhost:8080/"
        },
        "outputId": "2102976f-f59d-4584-a158-df081e04e8f6"
      },
      "source": [
        "#gives the F value\n",
        "from sklearn.feature_selection import f_classif\n",
        "f_classif(X,y)\n",
        "# first array is F value\n",
        "# second array is p value"
      ],
      "execution_count": null,
      "outputs": [
        {
          "output_type": "execute_result",
          "data": {
            "text/plain": [
              "(array([19.34578208,  1.69756761, 36.83474031,  0.55242954, 27.058348  ,\n",
              "        39.32079816,  0.33926071,  7.25769857]),\n",
              " array([4.13585468e-05, 1.97203337e-01, 7.36054922e-08, 4.60004748e-01,\n",
              "        2.15237625e-06, 3.29743998e-08, 5.62271364e-01, 8.97346499e-03]))"
            ]
          },
          "metadata": {
            "tags": []
          },
          "execution_count": 29
        }
      ]
    },
    {
      "cell_type": "code",
      "metadata": {
        "id": "vRjWU3aR7zkd",
        "colab": {
          "base_uri": "https://localhost:8080/"
        },
        "outputId": "37d367ef-f84f-427b-f473-cea659f633f8"
      },
      "source": [
        "##search for an optimal value of K\n",
        "from sklearn.model_selection import cross_val_score\n",
        "k_range = range(1,16)\n",
        "k_scores = []\n",
        "for k in k_range:\n",
        "  knn = neighbors.KNeighborsClassifier(n_neighbors=k)\n",
        "  scores = cross_val_score(knn, X, y, cv=5, scoring = \"accuracy\")\n",
        "  k_scores.append(scores.mean())\n",
        "print (k_scores) "
      ],
      "execution_count": null,
      "outputs": [
        {
          "output_type": "stream",
          "text": [
            "[0.8516483516483516, 0.8362637362637363, 0.8835164835164836, 0.8527472527472527, 0.8384615384615385, 0.823076923076923, 0.8373626373626373, 0.7923076923076924, 0.8076923076923077, 0.8076923076923077, 0.8076923076923077, 0.8076923076923077, 0.8076923076923077, 0.7615384615384616, 0.7615384615384616]\n"
          ],
          "name": "stdout"
        }
      ]
    },
    {
      "cell_type": "code",
      "metadata": {
        "id": "ZMkgQf3883U5",
        "colab": {
          "base_uri": "https://localhost:8080/",
          "height": 296
        },
        "outputId": "13787744-7b19-4edb-c130-a551952376f2"
      },
      "source": [
        "import matplotlib.pyplot as plt\n",
        "#plot the value of k for knn (x_axis) versus the cross_validated accuracy (y_value)\n",
        "plt.plot(k_range, k_scores,color = \"blue\", linestyle = \"dashed\", marker = \"o\",\n",
        "         markerfacecolor = \"red\", markersize = 10)\n",
        "plt.xlabel(\"value of k for knn\")\n",
        "plt.ylabel(\"cross-validated accuracy\")"
      ],
      "execution_count": null,
      "outputs": [
        {
          "output_type": "execute_result",
          "data": {
            "text/plain": [
              "Text(0, 0.5, 'cross-validated accuracy')"
            ]
          },
          "metadata": {
            "tags": []
          },
          "execution_count": 31
        },
        {
          "output_type": "display_data",
          "data": {
            "image/png": "[encoded data removed]",
            "text/plain": [
              "<Figure size 432x288 with 1 Axes>"
            ]
          },
          "metadata": {
            "tags": [],
            "needs_background": "light"
          }
        }
      ]
    },
    {
      "cell_type": "markdown",
      "metadata": {
        "id": "jyVvR1PxMN2P"
      },
      "source": [
        "Normalize Data"
      ]
    },
    {
      "cell_type": "code",
      "metadata": {
        "id": "R8GC86PHiIQ7"
      },
      "source": [
        "from sklearn import preprocessing\n",
        "X = preprocessing.scale(X)"
      ],
      "execution_count": null,
      "outputs": []
    },
    {
      "cell_type": "code",
      "metadata": {
        "id": "UCgyDwjy_6Ef"
      },
      "source": [
        "#from sklearn.linear_model import LinearRegression\n",
        "#from sklearn import preprocessing\n",
        "from sklearn.model_selection import train_test_split"
      ],
      "execution_count": null,
      "outputs": []
    },
    {
      "cell_type": "code",
      "metadata": {
        "id": "U77ttU23_6En",
        "colab": {
          "base_uri": "https://localhost:8080/"
        },
        "outputId": "9ea674aa-5e6d-42c0-8801-dd46fc24d7b3"
      },
      "source": [
        "#parameter tuning using cross_val\n",
        "from sklearn.model_selection import cross_val_score\n",
        "clf = neighbors.KNeighborsClassifier(n_neighbors=3) # number of K\n",
        "scores = cross_val_score(clf, X, y, cv=5) # check what is CV\n",
        "scores"
      ],
      "execution_count": null,
      "outputs": [
        {
          "output_type": "execute_result",
          "data": {
            "text/plain": [
              "array([0.71428571, 0.85714286, 0.92307692, 0.92307692, 1.        ])"
            ]
          },
          "metadata": {
            "tags": []
          },
          "execution_count": 35
        }
      ]
    },
    {
      "cell_type": "code",
      "metadata": {
        "id": "AO7v_D57_6Eu",
        "colab": {
          "base_uri": "https://localhost:8080/"
        },
        "outputId": "7a91878c-9c82-439d-cde3-32552f3dbdd2"
      },
      "source": [
        "print(scores.mean())"
      ],
      "execution_count": null,
      "outputs": [
        {
          "output_type": "stream",
          "text": [
            "0.8835164835164836\n"
          ],
          "name": "stdout"
        }
      ]
    },
    {
      "cell_type": "code",
      "metadata": {
        "id": "8Wt-l0IY_6FV"
      },
      "source": [
        "X_train, X_test, Y_train, Y_test = train_test_split(X, y, test_size=0.2, random_state=0)"
      ],
      "execution_count": null,
      "outputs": []
    },
    {
      "cell_type": "code",
      "metadata": {
        "id": "72sKkw4S_6Fa",
        "colab": {
          "base_uri": "https://localhost:8080/"
        },
        "outputId": "9f90c0d4-c361-4c29-96c5-cb8769252226"
      },
      "source": [
        "X_train.shape, Y_train.shape, X_test.shape, Y_test. shape"
      ],
      "execution_count": null,
      "outputs": [
        {
          "output_type": "execute_result",
          "data": {
            "text/plain": [
              "((53, 8), (53,), (14, 8), (14,))"
            ]
          },
          "metadata": {
            "tags": []
          },
          "execution_count": 38
        }
      ]
    },
    {
      "cell_type": "markdown",
      "metadata": {
        "id": "NVVM3ahat-J7"
      },
      "source": [
        "Recursive Elimination"
      ]
    },
    {
      "cell_type": "code",
      "metadata": {
        "id": "HICEsNKS_6Ff",
        "colab": {
          "base_uri": "https://localhost:8080/"
        },
        "outputId": "993d1365-6af7-4542-f648-16c9eecdb146"
      },
      "source": [
        "clf.fit(X_train, Y_train)"
      ],
      "execution_count": null,
      "outputs": [
        {
          "output_type": "execute_result",
          "data": {
            "text/plain": [
              "KNeighborsClassifier(algorithm='auto', leaf_size=30, metric='minkowski',\n",
              "                     metric_params=None, n_jobs=None, n_neighbors=3, p=2,\n",
              "                     weights='uniform')"
            ]
          },
          "metadata": {
            "tags": []
          },
          "execution_count": 40
        }
      ]
    },
    {
      "cell_type": "code",
      "metadata": {
        "id": "ZEYVSwDh_6Fq",
        "colab": {
          "base_uri": "https://localhost:8080/"
        },
        "outputId": "8a5ce952-d49e-4f9c-f047-6d0ec58c072f"
      },
      "source": [
        "accuracy = clf.score(X_test, Y_test)\n",
        "print(accuracy)"
      ],
      "execution_count": null,
      "outputs": [
        {
          "output_type": "stream",
          "text": [
            "0.8571428571428571\n"
          ],
          "name": "stdout"
        }
      ]
    },
    {
      "cell_type": "code",
      "metadata": {
        "id": "2FoSGrky_6Ft"
      },
      "source": [
        "from sklearn import metrics"
      ],
      "execution_count": null,
      "outputs": []
    },
    {
      "cell_type": "code",
      "metadata": {
        "id": "N7IUqxk1JwQM"
      },
      "source": [
        "y_predict = clf.predict(X_test)"
      ],
      "execution_count": null,
      "outputs": []
    },
    {
      "cell_type": "code",
      "metadata": {
        "id": "JVkll3cD_6F2",
        "colab": {
          "base_uri": "https://localhost:8080/"
        },
        "outputId": "5f83b8f2-9cce-45dd-c009-75c48f00d21b"
      },
      "source": [
        "print(\"Accuracy:\",metrics.accuracy_score(Y_test, y_predict))"
      ],
      "execution_count": null,
      "outputs": [
        {
          "output_type": "stream",
          "text": [
            "Accuracy: 0.8571428571428571\n"
          ],
          "name": "stdout"
        }
      ]
    },
    {
      "cell_type": "code",
      "metadata": {
        "id": "H4k4WMXoJwQj",
        "colab": {
          "base_uri": "https://localhost:8080/"
        },
        "outputId": "2cea6885-4646-4688-cbe6-abe273a49eb1"
      },
      "source": [
        "#Confusion Matrix\n",
        "#table that describes the performance of a classification model\n",
        "print(metrics.confusion_matrix(Y_test,y_predict))\n",
        "#bottom right = true positive\n",
        "#upper left = true negative\n",
        "#upper right = false positive\n",
        "# bottom left = false negative"
      ],
      "execution_count": null,
      "outputs": [
        {
          "output_type": "stream",
          "text": [
            "[[9 1]\n",
            " [1 3]]\n"
          ],
          "name": "stdout"
        }
      ]
    },
    {
      "cell_type": "code",
      "metadata": {
        "id": "nwhXmtUq_6GE"
      },
      "source": [
        "confusion = metrics.confusion_matrix(Y_test,y_predict)"
      ],
      "execution_count": null,
      "outputs": []
    },
    {
      "cell_type": "code",
      "metadata": {
        "id": "TrbZjXQh_6GN"
      },
      "source": [
        "TP = confusion[1,1]\n",
        "TN = confusion[0,0]\n",
        "FP = confusion[0,1]\n",
        "FN = confusion[1,0]"
      ],
      "execution_count": null,
      "outputs": []
    },
    {
      "cell_type": "code",
      "metadata": {
        "id": "HW7UTGYhJwQy",
        "colab": {
          "base_uri": "https://localhost:8080/"
        },
        "outputId": "0303b523-bb00-44ec-be0c-1439e0b6e340"
      },
      "source": [
        "Metrics_accuracy = (TP +TN)/ (TP +TN +FP+FN)\n",
        "print(Metrics_accuracy)"
      ],
      "execution_count": null,
      "outputs": [
        {
          "output_type": "stream",
          "text": [
            "0.8571428571428571\n"
          ],
          "name": "stdout"
        }
      ]
    },
    {
      "cell_type": "code",
      "metadata": {
        "id": "ceLAUQ_U_6GU",
        "colab": {
          "base_uri": "https://localhost:8080/"
        },
        "outputId": "4a293961-785b-4c04-c3ea-2ff0eb7990c7"
      },
      "source": [
        "#Sensitivity = when the actual value is positive, how often is the prediction correct\n",
        "print (TP/float(TP +FN))\n",
        "print(metrics.recall_score(Y_test,y_predict))"
      ],
      "execution_count": null,
      "outputs": [
        {
          "output_type": "stream",
          "text": [
            "0.75\n",
            "0.75\n"
          ],
          "name": "stdout"
        }
      ]
    },
    {
      "cell_type": "code",
      "metadata": {
        "id": "zJexmFHXJwQ_",
        "colab": {
          "base_uri": "https://localhost:8080/"
        },
        "outputId": "d2f5cab2-a4b3-47d0-9d71-14b06b1f8f21"
      },
      "source": [
        "#The ability of the classifier not to label as positive a sample that is negative.\n",
        "print(metrics.precision_score(Y_test,y_predict))"
      ],
      "execution_count": null,
      "outputs": [
        {
          "output_type": "stream",
          "text": [
            "0.75\n"
          ],
          "name": "stdout"
        }
      ]
    },
    {
      "cell_type": "code",
      "metadata": {
        "id": "ga6Ab2Wk338U",
        "colab": {
          "base_uri": "https://localhost:8080/"
        },
        "outputId": "fdb6f191-a5a3-4fb2-c664-ad94f75b8d3a"
      },
      "source": [
        "# building the optimal model using backward elimination\n",
        "# SL = 0.05 and eliminating those features which have p > SL\n",
        "import statsmodels.api as sm\n",
        "X= np.append(arr = np.ones((67,1)).astype(int), values = X, axis = 1)\n",
        "X_opt = X[:,[0, 1, 2, 3, 4, 5, 6, 7,8]]\n",
        "regressor_OLS = sm.OLS(endog = y, exog = X_opt).fit()"
      ],
      "execution_count": null,
      "outputs": [
        {
          "output_type": "stream",
          "text": [
            "/usr/local/lib/python3.6/dist-packages/statsmodels/tools/_testing.py:19: FutureWarning: pandas.util.testing is deprecated. Use the functions in the public API at pandas.testing instead.\n",
            "  import pandas.util.testing as tm\n"
          ],
          "name": "stderr"
        }
      ]
    },
    {
      "cell_type": "code",
      "metadata": {
        "colab": {
          "base_uri": "https://localhost:8080/",
          "height": 636
        },
        "id": "_u-NxQIZ-jmt",
        "outputId": "4c1b6b5a-abde-48f5-9066-3366b58db101"
      },
      "source": [
        "regressor_OLS.summary()"
      ],
      "execution_count": null,
      "outputs": [
        {
          "output_type": "execute_result",
          "data": {
            "text/html": [
              "<table class=\"simpletable\">\n",
              "<caption>OLS Regression Results</caption>\n",
              "<tr>\n",
              "  <th>Dep. Variable:</th>          <td>model</td>      <th>  R-squared:         </th> <td>   0.685</td>\n",
              "</tr>\n",
              "<tr>\n",
              "  <th>Model:</th>                   <td>OLS</td>       <th>  Adj. R-squared:    </th> <td>   0.648</td>\n",
              "</tr>\n",
              "<tr>\n",
              "  <th>Method:</th>             <td>Least Squares</td>  <th>  F-statistic:       </th> <td>   18.37</td>\n",
              "</tr>\n",
              "<tr>\n",
              "  <th>Date:</th>             <td>Fri, 25 Dec 2020</td> <th>  Prob (F-statistic):</th> <td>1.01e-12</td>\n",
              "</tr>\n",
              "<tr>\n",
              "  <th>Time:</th>                 <td>17:37:07</td>     <th>  Log-Likelihood:    </th> <td> -8.9627</td>\n",
              "</tr>\n",
              "<tr>\n",
              "  <th>No. Observations:</th>      <td>    67</td>      <th>  AIC:               </th> <td>   33.93</td>\n",
              "</tr>\n",
              "<tr>\n",
              "  <th>Df Residuals:</th>          <td>    59</td>      <th>  BIC:               </th> <td>   51.56</td>\n",
              "</tr>\n",
              "<tr>\n",
              "  <th>Df Model:</th>              <td>     7</td>      <th>                     </th>     <td> </td>   \n",
              "</tr>\n",
              "<tr>\n",
              "  <th>Covariance Type:</th>      <td>nonrobust</td>    <th>                     </th>     <td> </td>   \n",
              "</tr>\n",
              "</table>\n",
              "<table class=\"simpletable\">\n",
              "<tr>\n",
              "    <td></td>       <th>coef</th>     <th>std err</th>      <th>t</th>      <th>P>|t|</th>  <th>[0.025</th>    <th>0.975]</th>  \n",
              "</tr>\n",
              "<tr>\n",
              "  <th>const</th> <td>    0.4179</td> <td>    0.036</td> <td>   11.605</td> <td> 0.000</td> <td>    0.346</td> <td>    0.490</td>\n",
              "</tr>\n",
              "<tr>\n",
              "  <th>x1</th>    <td>   -0.1041</td> <td>    0.030</td> <td>   -3.489</td> <td> 0.001</td> <td>   -0.164</td> <td>   -0.044</td>\n",
              "</tr>\n",
              "<tr>\n",
              "  <th>x2</th>    <td>    0.0228</td> <td>    0.038</td> <td>    0.601</td> <td> 0.550</td> <td>   -0.053</td> <td>    0.099</td>\n",
              "</tr>\n",
              "<tr>\n",
              "  <th>x3</th>    <td>    0.1730</td> <td>    0.034</td> <td>    5.058</td> <td> 0.000</td> <td>    0.105</td> <td>    0.241</td>\n",
              "</tr>\n",
              "<tr>\n",
              "  <th>x4</th>    <td>    0.0024</td> <td>    0.036</td> <td>    0.065</td> <td> 0.948</td> <td>   -0.070</td> <td>    0.075</td>\n",
              "</tr>\n",
              "<tr>\n",
              "  <th>x5</th>    <td>    0.0906</td> <td>    0.037</td> <td>    2.478</td> <td> 0.016</td> <td>    0.017</td> <td>    0.164</td>\n",
              "</tr>\n",
              "<tr>\n",
              "  <th>x6</th>    <td>   -0.1651</td> <td>    0.029</td> <td>   -5.638</td> <td> 0.000</td> <td>   -0.224</td> <td>   -0.107</td>\n",
              "</tr>\n",
              "<tr>\n",
              "  <th>x7</th>    <td>   -0.0080</td> <td>    0.033</td> <td>   -0.245</td> <td> 0.807</td> <td>   -0.074</td> <td>    0.057</td>\n",
              "</tr>\n",
              "<tr>\n",
              "  <th>x8</th>    <td>    0.0937</td> <td>    0.035</td> <td>    2.644</td> <td> 0.010</td> <td>    0.023</td> <td>    0.165</td>\n",
              "</tr>\n",
              "</table>\n",
              "<table class=\"simpletable\">\n",
              "<tr>\n",
              "  <th>Omnibus:</th>       <td>13.527</td> <th>  Durbin-Watson:     </th> <td>   1.263</td>\n",
              "</tr>\n",
              "<tr>\n",
              "  <th>Prob(Omnibus):</th> <td> 0.001</td> <th>  Jarque-Bera (JB):  </th> <td>  46.985</td>\n",
              "</tr>\n",
              "<tr>\n",
              "  <th>Skew:</th>          <td> 0.232</td> <th>  Prob(JB):          </th> <td>6.27e-11</td>\n",
              "</tr>\n",
              "<tr>\n",
              "  <th>Kurtosis:</th>      <td> 7.076</td> <th>  Cond. No.          </th> <td>5.50e+15</td>\n",
              "</tr>\n",
              "</table><br/><br/>Warnings:<br/>[1] Standard Errors assume that the covariance matrix of the errors is correctly specified.<br/>[2] The smallest eigenvalue is 4.81e-30. This might indicate that there are<br/>strong multicollinearity problems or that the design matrix is singular."
            ],
            "text/plain": [
              "<class 'statsmodels.iolib.summary.Summary'>\n",
              "\"\"\"\n",
              "                            OLS Regression Results                            \n",
              "==============================================================================\n",
              "Dep. Variable:                  model   R-squared:                       0.685\n",
              "Model:                            OLS   Adj. R-squared:                  0.648\n",
              "Method:                 Least Squares   F-statistic:                     18.37\n",
              "Date:                Fri, 25 Dec 2020   Prob (F-statistic):           1.01e-12\n",
              "Time:                        17:37:07   Log-Likelihood:                -8.9627\n",
              "No. Observations:                  67   AIC:                             33.93\n",
              "Df Residuals:                      59   BIC:                             51.56\n",
              "Df Model:                           7                                         \n",
              "Covariance Type:            nonrobust                                         \n",
              "==============================================================================\n",
              "                 coef    std err          t      P>|t|      [0.025      0.975]\n",
              "------------------------------------------------------------------------------\n",
              "const          0.4179      0.036     11.605      0.000       0.346       0.490\n",
              "x1            -0.1041      0.030     -3.489      0.001      -0.164      -0.044\n",
              "x2             0.0228      0.038      0.601      0.550      -0.053       0.099\n",
              "x3             0.1730      0.034      5.058      0.000       0.105       0.241\n",
              "x4             0.0024      0.036      0.065      0.948      -0.070       0.075\n",
              "x5             0.0906      0.037      2.478      0.016       0.017       0.164\n",
              "x6            -0.1651      0.029     -5.638      0.000      -0.224      -0.107\n",
              "x7            -0.0080      0.033     -0.245      0.807      -0.074       0.057\n",
              "x8             0.0937      0.035      2.644      0.010       0.023       0.165\n",
              "==============================================================================\n",
              "Omnibus:                       13.527   Durbin-Watson:                   1.263\n",
              "Prob(Omnibus):                  0.001   Jarque-Bera (JB):               46.985\n",
              "Skew:                           0.232   Prob(JB):                     6.27e-11\n",
              "Kurtosis:                       7.076   Cond. No.                     5.50e+15\n",
              "==============================================================================\n",
              "\n",
              "Warnings:\n",
              "[1] Standard Errors assume that the covariance matrix of the errors is correctly specified.\n",
              "[2] The smallest eigenvalue is 4.81e-30. This might indicate that there are\n",
              "strong multicollinearity problems or that the design matrix is singular.\n",
              "\"\"\""
            ]
          },
          "metadata": {
            "tags": []
          },
          "execution_count": 53
        }
      ]
    },
    {
      "cell_type": "code",
      "metadata": {
        "colab": {
          "base_uri": "https://localhost:8080/",
          "height": 580
        },
        "id": "lzs7cNzw_YFl",
        "outputId": "de8b97dc-2831-45a7-97de-9165458fae8a"
      },
      "source": [
        "# remove the variable with the highest p value\n",
        "X_opt = X[:,[0, 1, 2, 3,5, 6,7,8]]\n",
        "regressor_OLS = sm.OLS(endog = y, exog = X_opt).fit()\n",
        "regressor_OLS.summary()"
      ],
      "execution_count": null,
      "outputs": [
        {
          "output_type": "execute_result",
          "data": {
            "text/html": [
              "<table class=\"simpletable\">\n",
              "<caption>OLS Regression Results</caption>\n",
              "<tr>\n",
              "  <th>Dep. Variable:</th>          <td>model</td>      <th>  R-squared:         </th> <td>   0.685</td>\n",
              "</tr>\n",
              "<tr>\n",
              "  <th>Model:</th>                   <td>OLS</td>       <th>  Adj. R-squared:    </th> <td>   0.648</td>\n",
              "</tr>\n",
              "<tr>\n",
              "  <th>Method:</th>             <td>Least Squares</td>  <th>  F-statistic:       </th> <td>   18.37</td>\n",
              "</tr>\n",
              "<tr>\n",
              "  <th>Date:</th>             <td>Fri, 25 Dec 2020</td> <th>  Prob (F-statistic):</th> <td>1.01e-12</td>\n",
              "</tr>\n",
              "<tr>\n",
              "  <th>Time:</th>                 <td>17:37:07</td>     <th>  Log-Likelihood:    </th> <td> -8.9627</td>\n",
              "</tr>\n",
              "<tr>\n",
              "  <th>No. Observations:</th>      <td>    67</td>      <th>  AIC:               </th> <td>   33.93</td>\n",
              "</tr>\n",
              "<tr>\n",
              "  <th>Df Residuals:</th>          <td>    59</td>      <th>  BIC:               </th> <td>   51.56</td>\n",
              "</tr>\n",
              "<tr>\n",
              "  <th>Df Model:</th>              <td>     7</td>      <th>                     </th>     <td> </td>   \n",
              "</tr>\n",
              "<tr>\n",
              "  <th>Covariance Type:</th>      <td>nonrobust</td>    <th>                     </th>     <td> </td>   \n",
              "</tr>\n",
              "</table>\n",
              "<table class=\"simpletable\">\n",
              "<tr>\n",
              "    <td></td>       <th>coef</th>     <th>std err</th>      <th>t</th>      <th>P>|t|</th>  <th>[0.025</th>    <th>0.975]</th>  \n",
              "</tr>\n",
              "<tr>\n",
              "  <th>const</th> <td>    0.4179</td> <td>    0.036</td> <td>   11.605</td> <td> 0.000</td> <td>    0.346</td> <td>    0.490</td>\n",
              "</tr>\n",
              "<tr>\n",
              "  <th>x1</th>    <td>   -0.1101</td> <td>    0.101</td> <td>   -1.095</td> <td> 0.278</td> <td>   -0.311</td> <td>    0.091</td>\n",
              "</tr>\n",
              "<tr>\n",
              "  <th>x2</th>    <td>    0.0203</td> <td>    0.053</td> <td>    0.382</td> <td> 0.704</td> <td>   -0.086</td> <td>    0.127</td>\n",
              "</tr>\n",
              "<tr>\n",
              "  <th>x3</th>    <td>    0.1682</td> <td>    0.087</td> <td>    1.929</td> <td> 0.058</td> <td>   -0.006</td> <td>    0.343</td>\n",
              "</tr>\n",
              "<tr>\n",
              "  <th>x4</th>    <td>    0.0852</td> <td>    0.089</td> <td>    0.962</td> <td> 0.340</td> <td>   -0.092</td> <td>    0.263</td>\n",
              "</tr>\n",
              "<tr>\n",
              "  <th>x5</th>    <td>   -0.1714</td> <td>    0.105</td> <td>   -1.631</td> <td> 0.108</td> <td>   -0.382</td> <td>    0.039</td>\n",
              "</tr>\n",
              "<tr>\n",
              "  <th>x6</th>    <td>   -0.0124</td> <td>    0.077</td> <td>   -0.161</td> <td> 0.873</td> <td>   -0.167</td> <td>    0.142</td>\n",
              "</tr>\n",
              "<tr>\n",
              "  <th>x7</th>    <td>    0.0904</td> <td>    0.059</td> <td>    1.543</td> <td> 0.128</td> <td>   -0.027</td> <td>    0.208</td>\n",
              "</tr>\n",
              "</table>\n",
              "<table class=\"simpletable\">\n",
              "<tr>\n",
              "  <th>Omnibus:</th>       <td>13.527</td> <th>  Durbin-Watson:     </th> <td>   1.263</td>\n",
              "</tr>\n",
              "<tr>\n",
              "  <th>Prob(Omnibus):</th> <td> 0.001</td> <th>  Jarque-Bera (JB):  </th> <td>  46.985</td>\n",
              "</tr>\n",
              "<tr>\n",
              "  <th>Skew:</th>          <td> 0.232</td> <th>  Prob(JB):          </th> <td>6.27e-11</td>\n",
              "</tr>\n",
              "<tr>\n",
              "  <th>Kurtosis:</th>      <td> 7.076</td> <th>  Cond. No.          </th> <td>    8.21</td>\n",
              "</tr>\n",
              "</table><br/><br/>Warnings:<br/>[1] Standard Errors assume that the covariance matrix of the errors is correctly specified."
            ],
            "text/plain": [
              "<class 'statsmodels.iolib.summary.Summary'>\n",
              "\"\"\"\n",
              "                            OLS Regression Results                            \n",
              "==============================================================================\n",
              "Dep. Variable:                  model   R-squared:                       0.685\n",
              "Model:                            OLS   Adj. R-squared:                  0.648\n",
              "Method:                 Least Squares   F-statistic:                     18.37\n",
              "Date:                Fri, 25 Dec 2020   Prob (F-statistic):           1.01e-12\n",
              "Time:                        17:37:07   Log-Likelihood:                -8.9627\n",
              "No. Observations:                  67   AIC:                             33.93\n",
              "Df Residuals:                      59   BIC:                             51.56\n",
              "Df Model:                           7                                         \n",
              "Covariance Type:            nonrobust                                         \n",
              "==============================================================================\n",
              "                 coef    std err          t      P>|t|      [0.025      0.975]\n",
              "------------------------------------------------------------------------------\n",
              "const          0.4179      0.036     11.605      0.000       0.346       0.490\n",
              "x1            -0.1101      0.101     -1.095      0.278      -0.311       0.091\n",
              "x2             0.0203      0.053      0.382      0.704      -0.086       0.127\n",
              "x3             0.1682      0.087      1.929      0.058      -0.006       0.343\n",
              "x4             0.0852      0.089      0.962      0.340      -0.092       0.263\n",
              "x5            -0.1714      0.105     -1.631      0.108      -0.382       0.039\n",
              "x6            -0.0124      0.077     -0.161      0.873      -0.167       0.142\n",
              "x7             0.0904      0.059      1.543      0.128      -0.027       0.208\n",
              "==============================================================================\n",
              "Omnibus:                       13.527   Durbin-Watson:                   1.263\n",
              "Prob(Omnibus):                  0.001   Jarque-Bera (JB):               46.985\n",
              "Skew:                           0.232   Prob(JB):                     6.27e-11\n",
              "Kurtosis:                       7.076   Cond. No.                         8.21\n",
              "==============================================================================\n",
              "\n",
              "Warnings:\n",
              "[1] Standard Errors assume that the covariance matrix of the errors is correctly specified.\n",
              "\"\"\""
            ]
          },
          "metadata": {
            "tags": []
          },
          "execution_count": 54
        }
      ]
    },
    {
      "cell_type": "code",
      "metadata": {
        "colab": {
          "base_uri": "https://localhost:8080/",
          "height": 559
        },
        "id": "TuEQS0K8_v-G",
        "outputId": "b58b3113-9b45-48d7-b0a4-b96dd52fc763"
      },
      "source": [
        "# remove the variable with the highest p value\n",
        "X_opt = X[:,[0, 1, 2, 3,5,7,8]]\n",
        "regressor_OLS = sm.OLS(endog = y, exog = X_opt).fit()\n",
        "regressor_OLS.summary()"
      ],
      "execution_count": null,
      "outputs": [
        {
          "output_type": "execute_result",
          "data": {
            "text/html": [
              "<table class=\"simpletable\">\n",
              "<caption>OLS Regression Results</caption>\n",
              "<tr>\n",
              "  <th>Dep. Variable:</th>          <td>model</td>      <th>  R-squared:         </th> <td>   0.671</td>\n",
              "</tr>\n",
              "<tr>\n",
              "  <th>Model:</th>                   <td>OLS</td>       <th>  Adj. R-squared:    </th> <td>   0.638</td>\n",
              "</tr>\n",
              "<tr>\n",
              "  <th>Method:</th>             <td>Least Squares</td>  <th>  F-statistic:       </th> <td>   20.42</td>\n",
              "</tr>\n",
              "<tr>\n",
              "  <th>Date:</th>             <td>Fri, 25 Dec 2020</td> <th>  Prob (F-statistic):</th> <td>7.36e-13</td>\n",
              "</tr>\n",
              "<tr>\n",
              "  <th>Time:</th>                 <td>17:37:07</td>     <th>  Log-Likelihood:    </th> <td> -10.441</td>\n",
              "</tr>\n",
              "<tr>\n",
              "  <th>No. Observations:</th>      <td>    67</td>      <th>  AIC:               </th> <td>   34.88</td>\n",
              "</tr>\n",
              "<tr>\n",
              "  <th>Df Residuals:</th>          <td>    60</td>      <th>  BIC:               </th> <td>   50.31</td>\n",
              "</tr>\n",
              "<tr>\n",
              "  <th>Df Model:</th>              <td>     6</td>      <th>                     </th>     <td> </td>   \n",
              "</tr>\n",
              "<tr>\n",
              "  <th>Covariance Type:</th>      <td>nonrobust</td>    <th>                     </th>     <td> </td>   \n",
              "</tr>\n",
              "</table>\n",
              "<table class=\"simpletable\">\n",
              "<tr>\n",
              "    <td></td>       <th>coef</th>     <th>std err</th>      <th>t</th>      <th>P>|t|</th>  <th>[0.025</th>    <th>0.975]</th>  \n",
              "</tr>\n",
              "<tr>\n",
              "  <th>const</th> <td>    0.4179</td> <td>    0.037</td> <td>   11.448</td> <td> 0.000</td> <td>    0.345</td> <td>    0.491</td>\n",
              "</tr>\n",
              "<tr>\n",
              "  <th>x1</th>    <td>    0.0340</td> <td>    0.049</td> <td>    0.697</td> <td> 0.488</td> <td>   -0.064</td> <td>    0.132</td>\n",
              "</tr>\n",
              "<tr>\n",
              "  <th>x2</th>    <td>    0.0773</td> <td>    0.041</td> <td>    1.900</td> <td> 0.062</td> <td>   -0.004</td> <td>    0.159</td>\n",
              "</tr>\n",
              "<tr>\n",
              "  <th>x3</th>    <td>    0.2926</td> <td>    0.043</td> <td>    6.842</td> <td> 0.000</td> <td>    0.207</td> <td>    0.378</td>\n",
              "</tr>\n",
              "<tr>\n",
              "  <th>x4</th>    <td>    0.2104</td> <td>    0.045</td> <td>    4.686</td> <td> 0.000</td> <td>    0.121</td> <td>    0.300</td>\n",
              "</tr>\n",
              "<tr>\n",
              "  <th>x5</th>    <td>    0.0936</td> <td>    0.042</td> <td>    2.216</td> <td> 0.031</td> <td>    0.009</td> <td>    0.178</td>\n",
              "</tr>\n",
              "<tr>\n",
              "  <th>x6</th>    <td>    0.1632</td> <td>    0.038</td> <td>    4.250</td> <td> 0.000</td> <td>    0.086</td> <td>    0.240</td>\n",
              "</tr>\n",
              "</table>\n",
              "<table class=\"simpletable\">\n",
              "<tr>\n",
              "  <th>Omnibus:</th>       <td>11.229</td> <th>  Durbin-Watson:     </th> <td>   1.400</td>\n",
              "</tr>\n",
              "<tr>\n",
              "  <th>Prob(Omnibus):</th> <td> 0.004</td> <th>  Jarque-Bera (JB):  </th> <td>  31.335</td>\n",
              "</tr>\n",
              "<tr>\n",
              "  <th>Skew:</th>          <td> 0.192</td> <th>  Prob(JB):          </th> <td>1.57e-07</td>\n",
              "</tr>\n",
              "<tr>\n",
              "  <th>Kurtosis:</th>      <td> 6.328</td> <th>  Cond. No.          </th> <td>    2.46</td>\n",
              "</tr>\n",
              "</table><br/><br/>Warnings:<br/>[1] Standard Errors assume that the covariance matrix of the errors is correctly specified."
            ],
            "text/plain": [
              "<class 'statsmodels.iolib.summary.Summary'>\n",
              "\"\"\"\n",
              "                            OLS Regression Results                            \n",
              "==============================================================================\n",
              "Dep. Variable:                  model   R-squared:                       0.671\n",
              "Model:                            OLS   Adj. R-squared:                  0.638\n",
              "Method:                 Least Squares   F-statistic:                     20.42\n",
              "Date:                Fri, 25 Dec 2020   Prob (F-statistic):           7.36e-13\n",
              "Time:                        17:37:07   Log-Likelihood:                -10.441\n",
              "No. Observations:                  67   AIC:                             34.88\n",
              "Df Residuals:                      60   BIC:                             50.31\n",
              "Df Model:                           6                                         \n",
              "Covariance Type:            nonrobust                                         \n",
              "==============================================================================\n",
              "                 coef    std err          t      P>|t|      [0.025      0.975]\n",
              "------------------------------------------------------------------------------\n",
              "const          0.4179      0.037     11.448      0.000       0.345       0.491\n",
              "x1             0.0340      0.049      0.697      0.488      -0.064       0.132\n",
              "x2             0.0773      0.041      1.900      0.062      -0.004       0.159\n",
              "x3             0.2926      0.043      6.842      0.000       0.207       0.378\n",
              "x4             0.2104      0.045      4.686      0.000       0.121       0.300\n",
              "x5             0.0936      0.042      2.216      0.031       0.009       0.178\n",
              "x6             0.1632      0.038      4.250      0.000       0.086       0.240\n",
              "==============================================================================\n",
              "Omnibus:                       11.229   Durbin-Watson:                   1.400\n",
              "Prob(Omnibus):                  0.004   Jarque-Bera (JB):               31.335\n",
              "Skew:                           0.192   Prob(JB):                     1.57e-07\n",
              "Kurtosis:                       6.328   Cond. No.                         2.46\n",
              "==============================================================================\n",
              "\n",
              "Warnings:\n",
              "[1] Standard Errors assume that the covariance matrix of the errors is correctly specified.\n",
              "\"\"\""
            ]
          },
          "metadata": {
            "tags": []
          },
          "execution_count": 55
        }
      ]
    },
    {
      "cell_type": "markdown",
      "metadata": {
        "id": "FBLtNsLS_6Ge"
      },
      "source": [
        ""
      ]
    },
    {
      "cell_type": "code",
      "metadata": {
        "id": "uT1TkmNeOs8g"
      },
      "source": [
        "X_train_opt, X_test_opt, Y_train_opt, Y_test_opt = train_test_split(X_opt,y, test_size=0.2, random_state=0)"
      ],
      "execution_count": null,
      "outputs": []
    },
    {
      "cell_type": "code",
      "metadata": {
        "colab": {
          "base_uri": "https://localhost:8080/"
        },
        "id": "ycpQT8znBTAc",
        "outputId": "ef8b75f8-8a84-40ae-81e6-92ab0daf3b04"
      },
      "source": [
        "clf.fit(X_train_opt,Y_train_opt)"
      ],
      "execution_count": null,
      "outputs": [
        {
          "output_type": "execute_result",
          "data": {
            "text/plain": [
              "KNeighborsClassifier(algorithm='auto', leaf_size=30, metric='minkowski',\n",
              "                     metric_params=None, n_jobs=None, n_neighbors=3, p=2,\n",
              "                     weights='uniform')"
            ]
          },
          "metadata": {
            "tags": []
          },
          "execution_count": 57
        }
      ]
    },
    {
      "cell_type": "code",
      "metadata": {
        "colab": {
          "base_uri": "https://localhost:8080/"
        },
        "id": "0t1wCy0CPBwi",
        "outputId": "84026541-63f4-4550-c501-0f6a29677390"
      },
      "source": [
        "accuracy = clf.score(X_test_opt, Y_test_opt)\n",
        "print(accuracy)"
      ],
      "execution_count": null,
      "outputs": [
        {
          "output_type": "stream",
          "text": [
            "0.8571428571428571\n"
          ],
          "name": "stdout"
        }
      ]
    },
    {
      "cell_type": "code",
      "metadata": {
        "id": "FEbnggnS_6Gg",
        "colab": {
          "base_uri": "https://localhost:8080/"
        },
        "outputId": "779d4d1c-2919-4f6e-f0d7-6aba5f76f4f4"
      },
      "source": [
        "from sklearn.naive_bayes import GaussianNB\n",
        "classifier = GaussianNB()\n",
        "classifier.fit(X_train,Y_train)"
      ],
      "execution_count": null,
      "outputs": [
        {
          "output_type": "execute_result",
          "data": {
            "text/plain": [
              "GaussianNB(priors=None, var_smoothing=1e-09)"
            ]
          },
          "metadata": {
            "tags": []
          },
          "execution_count": 65
        }
      ]
    },
    {
      "cell_type": "code",
      "metadata": {
        "id": "DOhfZrcK_6Gk"
      },
      "source": [
        "y_pred = classifier.predict(X_test)"
      ],
      "execution_count": null,
      "outputs": []
    },
    {
      "cell_type": "code",
      "metadata": {
        "id": "b_9_Q8SkLIpq",
        "colab": {
          "base_uri": "https://localhost:8080/"
        },
        "outputId": "35b624a2-e8b1-40e2-f6da-96e874e7a146"
      },
      "source": [
        "print(\"Accuracy:\",metrics.accuracy_score(Y_test, y_pred))"
      ],
      "execution_count": null,
      "outputs": [
        {
          "output_type": "stream",
          "text": [
            "Accuracy: 0.9285714285714286\n"
          ],
          "name": "stdout"
        }
      ]
    },
    {
      "cell_type": "code",
      "metadata": {
        "id": "RXNe14Au_6Go"
      },
      "source": [
        "import statsmodels.api as sm\n",
        "from scipy import stats"
      ],
      "execution_count": null,
      "outputs": []
    },
    {
      "cell_type": "code",
      "metadata": {
        "id": "VRQwkb_5_6Gt",
        "colab": {
          "base_uri": "https://localhost:8080/"
        },
        "outputId": "683eaf84-7368-4f9d-efff-1edd69fdc720"
      },
      "source": [
        "X2 = sm.add_constant(X_train)\n",
        "est = sm.OLS(Y_train, X2)\n",
        "est2 = est.fit()\n",
        "print(est2.summary())"
      ],
      "execution_count": null,
      "outputs": [
        {
          "output_type": "stream",
          "text": [
            "                            OLS Regression Results                            \n",
            "==============================================================================\n",
            "Dep. Variable:                  model   R-squared:                       0.741\n",
            "Model:                            OLS   Adj. R-squared:                  0.700\n",
            "Method:                 Least Squares   F-statistic:                     18.35\n",
            "Date:                Fri, 25 Dec 2020   Prob (F-statistic):           2.79e-11\n",
            "Time:                        17:37:07   Log-Likelihood:                -2.4762\n",
            "No. Observations:                  53   AIC:                             20.95\n",
            "Df Residuals:                      45   BIC:                             36.71\n",
            "Df Model:                           7                                         \n",
            "Covariance Type:            nonrobust                                         \n",
            "==============================================================================\n",
            "                 coef    std err          t      P>|t|      [0.025      0.975]\n",
            "------------------------------------------------------------------------------\n",
            "const          0.4336      0.039     11.246      0.000       0.356       0.511\n",
            "x1            -0.1033      0.031     -3.320      0.002      -0.166      -0.041\n",
            "x2             0.0210      0.036      0.588      0.560      -0.051       0.093\n",
            "x3             0.1705      0.035      4.849      0.000       0.100       0.241\n",
            "x4            -0.0145      0.036     -0.401      0.690      -0.087       0.058\n",
            "x5             0.1273      0.036      3.511      0.001       0.054       0.200\n",
            "x6            -0.1534      0.032     -4.840      0.000      -0.217      -0.090\n",
            "x7            -0.0424      0.039     -1.097      0.278      -0.120       0.035\n",
            "x8             0.0740      0.040      1.837      0.073      -0.007       0.155\n",
            "==============================================================================\n",
            "Omnibus:                       25.113   Durbin-Watson:                   2.081\n",
            "Prob(Omnibus):                  0.000   Jarque-Bera (JB):               38.543\n",
            "Skew:                           1.654   Prob(JB):                     4.27e-09\n",
            "Kurtosis:                       5.552   Cond. No.                     7.84e+15\n",
            "==============================================================================\n",
            "\n",
            "Warnings:\n",
            "[1] Standard Errors assume that the covariance matrix of the errors is correctly specified.\n",
            "[2] The smallest eigenvalue is 1.98e-30. This might indicate that there are\n",
            "strong multicollinearity problems or that the design matrix is singular.\n"
          ],
          "name": "stdout"
        }
      ]
    },
    {
      "cell_type": "code",
      "metadata": {
        "id": "ZHlDNt-khqYV"
      },
      "source": [
        "from matplotlib.colors import ListedColormap\n",
        "from sklearn import neighbors, datasets"
      ],
      "execution_count": null,
      "outputs": []
    },
    {
      "cell_type": "code",
      "metadata": {
        "id": "QJgdlPtZsCka"
      },
      "source": [
        "cmap_light = ListedColormap(['orange', 'cyan', 'cornflowerblue'])\n",
        "cmap_bold = ListedColormap(['darkorange', 'c', 'darkblue'])"
      ],
      "execution_count": null,
      "outputs": []
    },
    {
      "cell_type": "code",
      "metadata": {
        "colab": {
          "base_uri": "https://localhost:8080/"
        },
        "id": "UR2v9-jjF4ui",
        "outputId": "8f7ebe93-3065-45c7-8097-c75eb8e318bd"
      },
      "source": [
        "Y_test"
      ],
      "execution_count": null,
      "outputs": [
        {
          "output_type": "execute_result",
          "data": {
            "text/plain": [
              "27    0\n",
              "56    1\n",
              "35    0\n",
              "33    0\n",
              "31    0\n",
              "48    1\n",
              "22    0\n",
              "42    0\n",
              "46    0\n",
              "26    0\n",
              "40    0\n",
              "53    1\n",
              "41    0\n",
              "55    1\n",
              "Name: model, dtype: int64"
            ]
          },
          "metadata": {
            "tags": []
          },
          "execution_count": 72
        }
      ]
    },
    {
      "cell_type": "code",
      "metadata": {
        "colab": {
          "base_uri": "https://localhost:8080/"
        },
        "id": "xCvZWkO9EZwx",
        "outputId": "e05780b2-1849-4bb5-af5d-0bef566e8ede"
      },
      "source": [
        "Xr = X_test[:,0:2]\n",
        "Yr = Y_test\n",
        "h = .02 # step size in the mesh\n",
        "\n",
        "knn=neighbors.KNeighborsClassifier()\n",
        "knn.fit(Xr, Yr)"
      ],
      "execution_count": null,
      "outputs": [
        {
          "output_type": "execute_result",
          "data": {
            "text/plain": [
              "KNeighborsClassifier(algorithm='auto', leaf_size=30, metric='minkowski',\n",
              "                     metric_params=None, n_jobs=None, n_neighbors=5, p=2,\n",
              "                     weights='uniform')"
            ]
          },
          "metadata": {
            "tags": []
          },
          "execution_count": 73
        }
      ]
    },
    {
      "cell_type": "code",
      "metadata": {
        "colab": {
          "base_uri": "https://localhost:8080/"
        },
        "id": "p3Be8L5S_pST",
        "outputId": "0474ae15-c30c-4675-ec8a-3426c1278058"
      },
      "source": [
        "Xr = df.iloc[:,:2].values# we only take the first two features. \n",
        "Yr = df.model\n",
        "\n",
        "\n",
        "h = .02 # step size in the mesh\n",
        "\n",
        "knn=neighbors.KNeighborsClassifier()\n",
        "\n",
        "# we create an instance of Neighbours Classifier and fit the data.\n",
        "knn.fit(Xr, Yr)"
      ],
      "execution_count": null,
      "outputs": [
        {
          "output_type": "execute_result",
          "data": {
            "text/plain": [
              "KNeighborsClassifier(algorithm='auto', leaf_size=30, metric='minkowski',\n",
              "                     metric_params=None, n_jobs=None, n_neighbors=5, p=2,\n",
              "                     weights='uniform')"
            ]
          },
          "metadata": {
            "tags": []
          },
          "execution_count": 74
        }
      ]
    },
    {
      "cell_type": "code",
      "metadata": {
        "id": "JyWFsR8PlDaP",
        "colab": {
          "base_uri": "https://localhost:8080/",
          "height": 208
        },
        "outputId": "471f2539-3830-4460-d6d6-6350db80307c"
      },
      "source": [
        "# Plot the decision boundary. For that, we will asign a color to each\n",
        "# point in the mesh [x_min, m_max]x[y_min, y_max].\n",
        "x_min, x_max = Xr[:,0].min() - .5, Xr[:,0].max() + .5\n",
        "y_min, y_max = Xr[:,1].min() - .5, Xr[:,1].max() + .5\n",
        "xx, yy = np.meshgrid(np.arange(x_min, x_max, h), np.arange(y_min, y_max, h))\n",
        "Z = knn.predict(np.c_[xx.ravel(), yy.ravel()])\n",
        "\n",
        "# Put the result into a color plot\n",
        "Z = Z.reshape(xx.shape)\n",
        "plt.figure(1, figsize=(4, 3))\n",
        "plt.set_cmap(plt.cm.Paired)\n",
        "plt.pcolormesh(xx, yy, Z,cmap=cmap_light)\n",
        "\n",
        "# Plot also the training points\n",
        "plt.scatter(Xr[:,0], Xr[:,1],c=Yr,cmap=cmap_bold,\n",
        "                edgecolor='k', s=20 )\n",
        "plt.xlabel('Shipping')\n",
        "plt.ylabel('Environmental Impact')\n",
        "\n",
        "plt.xlim(xx.min(), xx.max())\n",
        "plt.ylim(yy.min(), yy.max())\n",
        "plt.xticks(())\n",
        "plt.yticks(())\n",
        "\n",
        "plt.show()"
      ],
      "execution_count": null,
      "outputs": [
        {
          "output_type": "display_data",
          "data": {
            "image/png": "[encoded data removed]",
            "text/plain": [
              "<Figure size 288x216 with 1 Axes>"
            ]
          },
          "metadata": {
            "tags": []
          }
        }
      ]
    },
    {
      "cell_type": "code",
      "metadata": {
        "id": "77sXvhQjI7qi",
        "colab": {
          "base_uri": "https://localhost:8080/"
        },
        "outputId": "a16e0e3a-800c-46f2-e698-82ee4be5665f"
      },
      "source": [
        "Xt = df.iloc[:, np.r_[5, 7]].values\n",
        "Yt = df.model\n",
        "\n",
        "h = .02 # step size in the mesh\n",
        "\n",
        "knn1=neighbors.KNeighborsClassifier()\n",
        "\n",
        "# we create an instance of Neighbours Classifier and fit the data.\n",
        "knn1.fit(Xr, Yr)"
      ],
      "execution_count": null,
      "outputs": [
        {
          "output_type": "execute_result",
          "data": {
            "text/plain": [
              "KNeighborsClassifier(algorithm='auto', leaf_size=30, metric='minkowski',\n",
              "                     metric_params=None, n_jobs=None, n_neighbors=5, p=2,\n",
              "                     weights='uniform')"
            ]
          },
          "metadata": {
            "tags": []
          },
          "execution_count": 78
        }
      ]
    },
    {
      "cell_type": "code",
      "metadata": {
        "colab": {
          "base_uri": "https://localhost:8080/",
          "height": 208
        },
        "id": "YfPEuMIrJqzI",
        "outputId": "74a27a97-46ec-4395-e9ce-c3c5866d3ddc"
      },
      "source": [
        "# Plot the decision boundary. For that, we will asign a color to each\n",
        "# point in the mesh [x_min, m_max]x[y_min, y_max].\n",
        "x_min, x_max = Xt[:,0].min() - .5, Xt[:,0].max() + .5\n",
        "y_min, y_max = Xt[:,1].min() - .5, Xt[:,1].max() + .5\n",
        "xx, yy = np.meshgrid(np.arange(x_min, x_max, h), np.arange(y_min, y_max, h))\n",
        "Z = knn1.predict(np.c_[xx.ravel(), yy.ravel()])\n",
        "\n",
        "# Put the result into a color plot\n",
        "Z = Z.reshape(xx.shape)\n",
        "plt.figure(1, figsize=(4, 3))\n",
        "plt.set_cmap(plt.cm.Paired)\n",
        "plt.pcolormesh(xx, yy, Z,cmap=cmap_light)\n",
        "\n",
        "# Plot also the training points\n",
        "plt.scatter(Xt[:,0], Xt[:,1],c=Yt,cmap=cmap_bold,\n",
        "                edgecolor='k', s=15)\n",
        "plt.xlabel('Logistic')\n",
        "plt.ylabel('Living Condition')\n",
        "\n",
        "plt.xlim(xx.min(), xx.max())\n",
        "plt.ylim(yy.min(), yy.max())\n",
        "plt.xticks(())\n",
        "plt.yticks(())\n",
        "\n",
        "plt.show()"
      ],
      "execution_count": null,
      "outputs": [
        {
          "output_type": "display_data",
          "data": {
            "image/png": "[encoded data removed]",
            "text/plain": [
              "<Figure size 288x216 with 1 Axes>"
            ]
          },
          "metadata": {
            "tags": []
          }
        }
      ]
    },
    {
      "cell_type": "code",
      "metadata": {
        "id": "dHmIU2AZnhwb",
        "colab": {
          "base_uri": "https://localhost:8080/"
        },
        "outputId": "09503e34-5238-4aec-fc62-0d5c1ae8d559"
      },
      "source": [
        "Xt = df.iloc[:, np.r_[0, 4]].values\n",
        "Yt = df.model\n",
        "\n",
        "\n",
        "h = .02 # step size in the mesh\n",
        "\n",
        "knn1=neighbors.KNeighborsClassifier()\n",
        "\n",
        "# we create an instance of Neighbours Classifier and fit the data.\n",
        "knn1.fit(Xt, Yt)"
      ],
      "execution_count": null,
      "outputs": [
        {
          "output_type": "execute_result",
          "data": {
            "text/plain": [
              "KNeighborsClassifier(algorithm='auto', leaf_size=30, metric='minkowski',\n",
              "                     metric_params=None, n_jobs=None, n_neighbors=5, p=2,\n",
              "                     weights='uniform')"
            ]
          },
          "metadata": {
            "tags": []
          },
          "execution_count": 89
        }
      ]
    },
    {
      "cell_type": "code",
      "metadata": {
        "id": "CpnsJoYong1f",
        "colab": {
          "base_uri": "https://localhost:8080/",
          "height": 208
        },
        "outputId": "a9d63aec-a5dc-4db3-d1ba-6854ebf0783c"
      },
      "source": [
        "# Plot the decision boundary. For that, we will asign a color to each\n",
        "# point in the mesh [x_min, m_max]x[y_min, y_max].\n",
        "x_min, x_max = Xt[:,0].min() - .5, Xt[:,0].max() + .5\n",
        "y_min, y_max = Xt[:,1].min() - .5, Xt[:,1].max() + .5\n",
        "xx, yy = np.meshgrid(np.arange(x_min, x_max, h), np.arange(y_min, y_max, h))\n",
        "Z = knn1.predict(np.c_[xx.ravel(), yy.ravel()])\n",
        "\n",
        "# Put the result into a color plot\n",
        "Z = Z.reshape(xx.shape)\n",
        "plt.figure(1, figsize=(4, 3))\n",
        "plt.set_cmap(plt.cm.Paired)\n",
        "plt.pcolormesh(xx, yy, Z,cmap=cmap_light)\n",
        "\n",
        "# Plot also the training points\n",
        "plt.scatter(Xt[:,0], Xt[:,1],c=Yt,cmap=cmap_bold,\n",
        "                edgecolor='k', s=15)\n",
        "plt.xlabel('Shipping')\n",
        "plt.ylabel('Vulnerable Population')\n",
        "\n",
        "plt.xlim(xx.min(), xx.max())\n",
        "plt.ylim(yy.min(), yy.max())\n",
        "plt.xticks(())\n",
        "plt.yticks(())\n",
        "\n",
        "plt.show()"
      ],
      "execution_count": null,
      "outputs": [
        {
          "output_type": "display_data",
          "data": {
            "image/png": "[encoded data removed]",
            "text/plain": [
              "<Figure size 288x216 with 1 Axes>"
            ]
          },
          "metadata": {
            "tags": []
          }
        }
      ]
    }
  ]
}